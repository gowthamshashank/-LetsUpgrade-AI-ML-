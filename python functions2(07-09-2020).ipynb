{
 "cells": [
  {
   "cell_type": "markdown",
   "metadata": {},
   "source": [
    "1) Assuming that we have some email addresses in the \"username@companyname.com\" format, please\n",
    "write a program to print the company name of a given email address. Both user names and company\n",
    "names are composed of letters only."
   ]
  },
  {
   "cell_type": "code",
   "execution_count": 2,
   "metadata": {},
   "outputs": [
    {
     "name": "stdout",
     "output_type": "stream",
     "text": [
      "john@google.com\n",
      "google"
     ]
    }
   ],
   "source": [
    "ip=input()\n",
    "x=ip.index(\"@\")\n",
    "print(ip[x+1:len(ip)-4],end='')"
   ]
  },
  {
   "cell_type": "markdown",
   "metadata": {},
   "source": [
    "2) Write a program that accepts a comma-separated sequence of words as input and prints the words in a\n",
    "comma-separated sequence after sorting them alphabetically."
   ]
  },
  {
   "cell_type": "code",
   "execution_count": 4,
   "metadata": {},
   "outputs": [
    {
     "name": "stdout",
     "output_type": "stream",
     "text": [
      "enter a list: without, bag, hello, world\n",
      " bag, hello, world,without\n"
     ]
    }
   ],
   "source": [
    "items = str(input(\"enter a list: \"))\n",
    "words = [word for word in items.split(\",\")]\n",
    "print(\",\".join(sorted(list(set(words)))))\n"
   ]
  },
  {
   "cell_type": "markdown",
   "metadata": {},
   "source": [
    "3) Create your own Jupyter Notebook for Sets. Reference link:"
   ]
  },
  {
   "cell_type": "code",
   "execution_count": 9,
   "metadata": {},
   "outputs": [
    {
     "name": "stdout",
     "output_type": "stream",
     "text": [
      "banana\n",
      "apple\n",
      "cherry\n",
      "True\n",
      "{'banana', 'orange', 'apple', 'cherry'}\n",
      "{'mango', 'cherry', 'apple', 'grapes', 'banana', 'orange'}\n",
      "6\n",
      "{'mango', 'cherry', 'apple', 'grapes', 'orange'}\n",
      "{'mango', 'cherry', 'apple', 'grapes', 'orange'}\n",
      "mango\n",
      "{'cherry', 'apple', 'grapes', 'orange'}\n",
      "set()\n",
      "{1, 'b', 2, 3, 'c', 'a'}\n",
      "{1, 'b', 2, 3, 'c', 'a'}\n"
     ]
    }
   ],
   "source": [
    "thisset = {\"apple\", \"banana\", \"cherry\"}\n",
    "for x in thisset:\n",
    "  print(x)\n",
    "\n",
    "print(\"banana\" in thisset)\n",
    "\n",
    "thisset.add(\"orange\")\n",
    "print(thisset)\n",
    "\n",
    "thisset.update([\"orange\", \"mango\", \"grapes\"])\n",
    "print(thisset)\n",
    "\n",
    "print(len(thisset))\n",
    "\n",
    "thisset.remove(\"banana\")\n",
    "print(thisset)\n",
    "\n",
    "thisset.discard(\"banana\")\n",
    "print(thisset)\n",
    "\n",
    "x = thisset.pop()\n",
    "print(x)\n",
    "print(thisset)\n",
    "\n",
    "thisset.clear()\n",
    "print(thisset)\n",
    "\n",
    "set1 = {\"a\", \"b\" , \"c\"}\n",
    "set2 = {1, 2, 3}\n",
    "set3 = set1.union(set2)\n",
    "print(set3)\n",
    "\n",
    "\n",
    "set1 = {\"a\", \"b\" , \"c\"}\n",
    "set2 = {1, 2, 3}\n",
    "set1.update(set2)\n",
    "print(set1)"
   ]
  },
  {
   "cell_type": "markdown",
   "metadata": {},
   "source": [
    "4) Given a list of n-1 numbers ranging from 1 to n, your task is to find the missing number. There are no\n",
    "duplicates."
   ]
  },
  {
   "cell_type": "code",
   "execution_count": 10,
   "metadata": {},
   "outputs": [
    {
     "name": "stdout",
     "output_type": "stream",
     "text": [
      "5\n"
     ]
    }
   ],
   "source": [
    "def missing_number(num_list):\n",
    "    return sum(range(num_list[0],num_list[-1]+1)) - sum(num_list)\n",
    "\n",
    "print(missing_number([1,2,3,4,6,7,8]))"
   ]
  },
  {
   "cell_type": "markdown",
   "metadata": {},
   "source": [
    "5) With a given list L, write a program to print this list L after removing all duplicate values with original order\n",
    "reserved."
   ]
  },
  {
   "cell_type": "code",
   "execution_count": 11,
   "metadata": {},
   "outputs": [
    {
     "name": "stdout",
     "output_type": "stream",
     "text": [
      "[12, 24, 35]\n"
     ]
    }
   ],
   "source": [
    "def Remove(duplicate): \n",
    "    final_list = [] \n",
    "    for num in duplicate: \n",
    "        if num not in final_list: \n",
    "            final_list.append(num) \n",
    "    return final_list \n",
    "duplicate = [12, 24, 35, 24] \n",
    "print(Remove(duplicate))"
   ]
  },
  {
   "cell_type": "code",
   "execution_count": null,
   "metadata": {},
   "outputs": [],
   "source": []
  }
 ],
 "metadata": {
  "kernelspec": {
   "display_name": "Python 3",
   "language": "python",
   "name": "python3"
  },
  "language_info": {
   "codemirror_mode": {
    "name": "ipython",
    "version": 3
   },
   "file_extension": ".py",
   "mimetype": "text/x-python",
   "name": "python",
   "nbconvert_exporter": "python",
   "pygments_lexer": "ipython3",
   "version": "3.8.3"
  }
 },
 "nbformat": 4,
 "nbformat_minor": 4
}
