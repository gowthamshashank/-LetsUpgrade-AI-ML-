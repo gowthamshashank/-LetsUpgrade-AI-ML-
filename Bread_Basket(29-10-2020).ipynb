{
 "cells": [
  {
   "cell_type": "markdown",
   "metadata": {},
   "source": [
    "Do the market basket analysis with Bread_Basket dataset."
   ]
  },
  {
   "cell_type": "code",
   "execution_count": 1,
   "metadata": {
    "ExecuteTime": {
     "end_time": "2020-11-04T13:36:49.554776Z",
     "start_time": "2020-11-04T13:36:46.067380Z"
    }
   },
   "outputs": [],
   "source": [
    "import pandas as pd\n",
    "import numpy as np\n",
    "import matplotlib.pyplot as plt\n",
    "%matplotlib inline\n",
    "import seaborn as sns\n",
    "import os\n",
    "\n",
    "# for market basket analysis\n",
    "from mlxtend.frequent_patterns import apriori\n",
    "from mlxtend.frequent_patterns import association_rules"
   ]
  },
  {
   "cell_type": "code",
   "execution_count": 2,
   "metadata": {
    "ExecuteTime": {
     "end_time": "2020-11-04T13:36:49.613231Z",
     "start_time": "2020-11-04T13:36:49.558041Z"
    }
   },
   "outputs": [
    {
     "data": {
      "text/html": [
       "<div>\n",
       "<style scoped>\n",
       "    .dataframe tbody tr th:only-of-type {\n",
       "        vertical-align: middle;\n",
       "    }\n",
       "\n",
       "    .dataframe tbody tr th {\n",
       "        vertical-align: top;\n",
       "    }\n",
       "\n",
       "    .dataframe thead th {\n",
       "        text-align: right;\n",
       "    }\n",
       "</style>\n",
       "<table border=\"1\" class=\"dataframe\">\n",
       "  <thead>\n",
       "    <tr style=\"text-align: right;\">\n",
       "      <th></th>\n",
       "      <th>Date</th>\n",
       "      <th>Time</th>\n",
       "      <th>Transaction</th>\n",
       "      <th>Item</th>\n",
       "    </tr>\n",
       "  </thead>\n",
       "  <tbody>\n",
       "    <tr>\n",
       "      <th>0</th>\n",
       "      <td>2016-10-30</td>\n",
       "      <td>09:58:11</td>\n",
       "      <td>1</td>\n",
       "      <td>Bread</td>\n",
       "    </tr>\n",
       "    <tr>\n",
       "      <th>1</th>\n",
       "      <td>2016-10-30</td>\n",
       "      <td>10:05:34</td>\n",
       "      <td>2</td>\n",
       "      <td>Scandinavian</td>\n",
       "    </tr>\n",
       "    <tr>\n",
       "      <th>2</th>\n",
       "      <td>2016-10-30</td>\n",
       "      <td>10:05:34</td>\n",
       "      <td>2</td>\n",
       "      <td>Scandinavian</td>\n",
       "    </tr>\n",
       "    <tr>\n",
       "      <th>3</th>\n",
       "      <td>2016-10-30</td>\n",
       "      <td>10:07:57</td>\n",
       "      <td>3</td>\n",
       "      <td>Hot chocolate</td>\n",
       "    </tr>\n",
       "    <tr>\n",
       "      <th>4</th>\n",
       "      <td>2016-10-30</td>\n",
       "      <td>10:07:57</td>\n",
       "      <td>3</td>\n",
       "      <td>Jam</td>\n",
       "    </tr>\n",
       "  </tbody>\n",
       "</table>\n",
       "</div>"
      ],
      "text/plain": [
       "         Date      Time  Transaction           Item\n",
       "0  2016-10-30  09:58:11            1          Bread\n",
       "1  2016-10-30  10:05:34            2   Scandinavian\n",
       "2  2016-10-30  10:05:34            2   Scandinavian\n",
       "3  2016-10-30  10:07:57            3  Hot chocolate\n",
       "4  2016-10-30  10:07:57            3            Jam"
      ]
     },
     "execution_count": 2,
     "metadata": {},
     "output_type": "execute_result"
    }
   ],
   "source": [
    "os.chdir('/Users/gowthamshashank/Desktop/LU/LetsUpgrade/ass-22')\n",
    "\n",
    "df = pd.read_csv('BreadBasket_DMS - Arindam Dev.csv',encoding = 'unicode_escape')\n",
    "\n",
    "df.head()\n"
   ]
  },
  {
   "cell_type": "code",
   "execution_count": 3,
   "metadata": {
    "ExecuteTime": {
     "end_time": "2020-11-04T13:36:49.633388Z",
     "start_time": "2020-11-04T13:36:49.626637Z"
    }
   },
   "outputs": [
    {
     "data": {
      "text/plain": [
       "(21293, 4)"
      ]
     },
     "execution_count": 3,
     "metadata": {},
     "output_type": "execute_result"
    }
   ],
   "source": [
    "df.shape"
   ]
  },
  {
   "cell_type": "code",
   "execution_count": 4,
   "metadata": {
    "ExecuteTime": {
     "end_time": "2020-11-04T13:36:49.663728Z",
     "start_time": "2020-11-04T13:36:49.638220Z"
    }
   },
   "outputs": [
    {
     "name": "stdout",
     "output_type": "stream",
     "text": [
      "<class 'pandas.core.frame.DataFrame'>\n",
      "RangeIndex: 21293 entries, 0 to 21292\n",
      "Data columns (total 4 columns):\n",
      " #   Column       Non-Null Count  Dtype \n",
      "---  ------       --------------  ----- \n",
      " 0   Date         21293 non-null  object\n",
      " 1   Time         21293 non-null  object\n",
      " 2   Transaction  21293 non-null  int64 \n",
      " 3   Item         21293 non-null  object\n",
      "dtypes: int64(1), object(3)\n",
      "memory usage: 665.5+ KB\n"
     ]
    }
   ],
   "source": [
    "df.info()"
   ]
  },
  {
   "cell_type": "code",
   "execution_count": 5,
   "metadata": {
    "ExecuteTime": {
     "end_time": "2020-11-04T13:36:49.688641Z",
     "start_time": "2020-11-04T13:36:49.671055Z"
    }
   },
   "outputs": [
    {
     "data": {
      "text/plain": [
       "Date           0\n",
       "Time           0\n",
       "Transaction    0\n",
       "Item           0\n",
       "dtype: int64"
      ]
     },
     "execution_count": 5,
     "metadata": {},
     "output_type": "execute_result"
    }
   ],
   "source": [
    "df.isnull().sum()"
   ]
  },
  {
   "cell_type": "code",
   "execution_count": 6,
   "metadata": {
    "ExecuteTime": {
     "end_time": "2020-11-04T13:36:49.728903Z",
     "start_time": "2020-11-04T13:36:49.698529Z"
    }
   },
   "outputs": [
    {
     "data": {
      "text/plain": [
       "Date            159\n",
       "Time           8240\n",
       "Transaction    9531\n",
       "Item             95\n",
       "dtype: int64"
      ]
     },
     "execution_count": 6,
     "metadata": {},
     "output_type": "execute_result"
    }
   ],
   "source": [
    "df.nunique()"
   ]
  },
  {
   "cell_type": "code",
   "execution_count": 7,
   "metadata": {
    "ExecuteTime": {
     "end_time": "2020-11-04T13:36:49.752755Z",
     "start_time": "2020-11-04T13:36:49.735671Z"
    }
   },
   "outputs": [
    {
     "data": {
      "text/plain": [
       "Index(['Date', 'Time', 'Transaction', 'Item'], dtype='object')"
      ]
     },
     "execution_count": 7,
     "metadata": {},
     "output_type": "execute_result"
    }
   ],
   "source": [
    "df.columns"
   ]
  },
  {
   "cell_type": "code",
   "execution_count": 8,
   "metadata": {
    "ExecuteTime": {
     "end_time": "2020-11-04T13:36:49.784204Z",
     "start_time": "2020-11-04T13:36:49.765086Z"
    }
   },
   "outputs": [
    {
     "data": {
      "text/html": [
       "<div>\n",
       "<style scoped>\n",
       "    .dataframe tbody tr th:only-of-type {\n",
       "        vertical-align: middle;\n",
       "    }\n",
       "\n",
       "    .dataframe tbody tr th {\n",
       "        vertical-align: top;\n",
       "    }\n",
       "\n",
       "    .dataframe thead th {\n",
       "        text-align: right;\n",
       "    }\n",
       "</style>\n",
       "<table border=\"1\" class=\"dataframe\">\n",
       "  <thead>\n",
       "    <tr style=\"text-align: right;\">\n",
       "      <th></th>\n",
       "      <th>Date</th>\n",
       "      <th>Time</th>\n",
       "      <th>Transaction</th>\n",
       "      <th>Item</th>\n",
       "    </tr>\n",
       "  </thead>\n",
       "  <tbody>\n",
       "  </tbody>\n",
       "</table>\n",
       "</div>"
      ],
      "text/plain": [
       "Empty DataFrame\n",
       "Columns: [Date, Time, Transaction, Item]\n",
       "Index: []"
      ]
     },
     "execution_count": 8,
     "metadata": {},
     "output_type": "execute_result"
    }
   ],
   "source": [
    "df[df['Transaction']<0].head()"
   ]
  },
  {
   "cell_type": "code",
   "execution_count": 9,
   "metadata": {
    "ExecuteTime": {
     "end_time": "2020-11-04T13:36:49.805651Z",
     "start_time": "2020-11-04T13:36:49.790650Z"
    }
   },
   "outputs": [],
   "source": [
    "df['Date'] = df['Date'].astype('str')"
   ]
  },
  {
   "cell_type": "code",
   "execution_count": 10,
   "metadata": {
    "ExecuteTime": {
     "end_time": "2020-11-04T13:36:49.840223Z",
     "start_time": "2020-11-04T13:36:49.812844Z"
    }
   },
   "outputs": [],
   "source": [
    "df = df[~df['Date'].str.contains('C',na=False)]"
   ]
  },
  {
   "cell_type": "code",
   "execution_count": 11,
   "metadata": {
    "ExecuteTime": {
     "end_time": "2020-11-04T13:36:49.865045Z",
     "start_time": "2020-11-04T13:36:49.845929Z"
    }
   },
   "outputs": [
    {
     "data": {
      "text/plain": [
       "0        2016-10-30\n",
       "1        2016-10-30\n",
       "2        2016-10-30\n",
       "3        2016-10-30\n",
       "4        2016-10-30\n",
       "            ...    \n",
       "21288    2017-04-09\n",
       "21289    2017-04-09\n",
       "21290    2017-04-09\n",
       "21291    2017-04-09\n",
       "21292    2017-04-09\n",
       "Name: Date, Length: 21293, dtype: object"
      ]
     },
     "execution_count": 11,
     "metadata": {},
     "output_type": "execute_result"
    }
   ],
   "source": [
    "df['Date']"
   ]
  },
  {
   "cell_type": "code",
   "execution_count": 12,
   "metadata": {
    "ExecuteTime": {
     "end_time": "2020-11-04T13:36:49.905110Z",
     "start_time": "2020-11-04T13:36:49.870215Z"
    }
   },
   "outputs": [],
   "source": [
    "df['Date'] = pd.to_datetime(df['Date'], errors='coerce')\n",
    "df['Year'] = df['Date'].dt.year\n",
    "df['Month'] = df['Date'].dt.month\n",
    "df['Hour'] = df['Date'].dt.hour"
   ]
  },
  {
   "cell_type": "code",
   "execution_count": 13,
   "metadata": {
    "ExecuteTime": {
     "end_time": "2020-11-04T13:36:49.940797Z",
     "start_time": "2020-11-04T13:36:49.918146Z"
    }
   },
   "outputs": [
    {
     "data": {
      "text/html": [
       "<div>\n",
       "<style scoped>\n",
       "    .dataframe tbody tr th:only-of-type {\n",
       "        vertical-align: middle;\n",
       "    }\n",
       "\n",
       "    .dataframe tbody tr th {\n",
       "        vertical-align: top;\n",
       "    }\n",
       "\n",
       "    .dataframe thead th {\n",
       "        text-align: right;\n",
       "    }\n",
       "</style>\n",
       "<table border=\"1\" class=\"dataframe\">\n",
       "  <thead>\n",
       "    <tr style=\"text-align: right;\">\n",
       "      <th></th>\n",
       "      <th>Date</th>\n",
       "      <th>Time</th>\n",
       "      <th>Transaction</th>\n",
       "      <th>Item</th>\n",
       "      <th>Year</th>\n",
       "      <th>Month</th>\n",
       "      <th>Hour</th>\n",
       "    </tr>\n",
       "  </thead>\n",
       "  <tbody>\n",
       "    <tr>\n",
       "      <th>0</th>\n",
       "      <td>2016-10-30</td>\n",
       "      <td>09:58:11</td>\n",
       "      <td>1</td>\n",
       "      <td>Bread</td>\n",
       "      <td>2016</td>\n",
       "      <td>10</td>\n",
       "      <td>0</td>\n",
       "    </tr>\n",
       "    <tr>\n",
       "      <th>1</th>\n",
       "      <td>2016-10-30</td>\n",
       "      <td>10:05:34</td>\n",
       "      <td>2</td>\n",
       "      <td>Scandinavian</td>\n",
       "      <td>2016</td>\n",
       "      <td>10</td>\n",
       "      <td>0</td>\n",
       "    </tr>\n",
       "    <tr>\n",
       "      <th>2</th>\n",
       "      <td>2016-10-30</td>\n",
       "      <td>10:05:34</td>\n",
       "      <td>2</td>\n",
       "      <td>Scandinavian</td>\n",
       "      <td>2016</td>\n",
       "      <td>10</td>\n",
       "      <td>0</td>\n",
       "    </tr>\n",
       "    <tr>\n",
       "      <th>3</th>\n",
       "      <td>2016-10-30</td>\n",
       "      <td>10:07:57</td>\n",
       "      <td>3</td>\n",
       "      <td>Hot chocolate</td>\n",
       "      <td>2016</td>\n",
       "      <td>10</td>\n",
       "      <td>0</td>\n",
       "    </tr>\n",
       "    <tr>\n",
       "      <th>4</th>\n",
       "      <td>2016-10-30</td>\n",
       "      <td>10:07:57</td>\n",
       "      <td>3</td>\n",
       "      <td>Jam</td>\n",
       "      <td>2016</td>\n",
       "      <td>10</td>\n",
       "      <td>0</td>\n",
       "    </tr>\n",
       "  </tbody>\n",
       "</table>\n",
       "</div>"
      ],
      "text/plain": [
       "        Date      Time  Transaction           Item  Year  Month  Hour\n",
       "0 2016-10-30  09:58:11            1          Bread  2016     10     0\n",
       "1 2016-10-30  10:05:34            2   Scandinavian  2016     10     0\n",
       "2 2016-10-30  10:05:34            2   Scandinavian  2016     10     0\n",
       "3 2016-10-30  10:07:57            3  Hot chocolate  2016     10     0\n",
       "4 2016-10-30  10:07:57            3            Jam  2016     10     0"
      ]
     },
     "execution_count": 13,
     "metadata": {},
     "output_type": "execute_result"
    }
   ],
   "source": [
    "df.head()"
   ]
  },
  {
   "cell_type": "code",
   "execution_count": 14,
   "metadata": {
    "ExecuteTime": {
     "end_time": "2020-11-04T13:36:49.974461Z",
     "start_time": "2020-11-04T13:36:49.946081Z"
    }
   },
   "outputs": [
    {
     "data": {
      "text/html": [
       "<div>\n",
       "<style scoped>\n",
       "    .dataframe tbody tr th:only-of-type {\n",
       "        vertical-align: middle;\n",
       "    }\n",
       "\n",
       "    .dataframe tbody tr th {\n",
       "        vertical-align: top;\n",
       "    }\n",
       "\n",
       "    .dataframe thead th {\n",
       "        text-align: right;\n",
       "    }\n",
       "</style>\n",
       "<table border=\"1\" class=\"dataframe\">\n",
       "  <thead>\n",
       "    <tr style=\"text-align: right;\">\n",
       "      <th></th>\n",
       "      <th>Date</th>\n",
       "      <th>Time</th>\n",
       "      <th>Transaction</th>\n",
       "      <th>Item</th>\n",
       "      <th>Year</th>\n",
       "      <th>Month</th>\n",
       "      <th>Hour</th>\n",
       "      <th>Month_year</th>\n",
       "    </tr>\n",
       "  </thead>\n",
       "  <tbody>\n",
       "    <tr>\n",
       "      <th>0</th>\n",
       "      <td>2016-10-30</td>\n",
       "      <td>09:58:11</td>\n",
       "      <td>1</td>\n",
       "      <td>Bread</td>\n",
       "      <td>2016</td>\n",
       "      <td>10</td>\n",
       "      <td>0</td>\n",
       "      <td>2016-10</td>\n",
       "    </tr>\n",
       "    <tr>\n",
       "      <th>1</th>\n",
       "      <td>2016-10-30</td>\n",
       "      <td>10:05:34</td>\n",
       "      <td>2</td>\n",
       "      <td>Scandinavian</td>\n",
       "      <td>2016</td>\n",
       "      <td>10</td>\n",
       "      <td>0</td>\n",
       "      <td>2016-10</td>\n",
       "    </tr>\n",
       "    <tr>\n",
       "      <th>2</th>\n",
       "      <td>2016-10-30</td>\n",
       "      <td>10:05:34</td>\n",
       "      <td>2</td>\n",
       "      <td>Scandinavian</td>\n",
       "      <td>2016</td>\n",
       "      <td>10</td>\n",
       "      <td>0</td>\n",
       "      <td>2016-10</td>\n",
       "    </tr>\n",
       "    <tr>\n",
       "      <th>3</th>\n",
       "      <td>2016-10-30</td>\n",
       "      <td>10:07:57</td>\n",
       "      <td>3</td>\n",
       "      <td>Hot chocolate</td>\n",
       "      <td>2016</td>\n",
       "      <td>10</td>\n",
       "      <td>0</td>\n",
       "      <td>2016-10</td>\n",
       "    </tr>\n",
       "    <tr>\n",
       "      <th>4</th>\n",
       "      <td>2016-10-30</td>\n",
       "      <td>10:07:57</td>\n",
       "      <td>3</td>\n",
       "      <td>Jam</td>\n",
       "      <td>2016</td>\n",
       "      <td>10</td>\n",
       "      <td>0</td>\n",
       "      <td>2016-10</td>\n",
       "    </tr>\n",
       "  </tbody>\n",
       "</table>\n",
       "</div>"
      ],
      "text/plain": [
       "        Date      Time  Transaction           Item  Year  Month  Hour  \\\n",
       "0 2016-10-30  09:58:11            1          Bread  2016     10     0   \n",
       "1 2016-10-30  10:05:34            2   Scandinavian  2016     10     0   \n",
       "2 2016-10-30  10:05:34            2   Scandinavian  2016     10     0   \n",
       "3 2016-10-30  10:07:57            3  Hot chocolate  2016     10     0   \n",
       "4 2016-10-30  10:07:57            3            Jam  2016     10     0   \n",
       "\n",
       "  Month_year  \n",
       "0    2016-10  \n",
       "1    2016-10  \n",
       "2    2016-10  \n",
       "3    2016-10  \n",
       "4    2016-10  "
      ]
     },
     "execution_count": 14,
     "metadata": {},
     "output_type": "execute_result"
    }
   ],
   "source": [
    "df['Month_year'] = pd.to_datetime(df['Date']).dt.to_period('M')\n",
    "df.head()"
   ]
  },
  {
   "cell_type": "code",
   "execution_count": 15,
   "metadata": {
    "ExecuteTime": {
     "end_time": "2020-11-04T13:36:50.028617Z",
     "start_time": "2020-11-04T13:36:49.978454Z"
    }
   },
   "outputs": [
    {
     "data": {
      "text/html": [
       "<div>\n",
       "<style scoped>\n",
       "    .dataframe tbody tr th:only-of-type {\n",
       "        vertical-align: middle;\n",
       "    }\n",
       "\n",
       "    .dataframe tbody tr th {\n",
       "        vertical-align: top;\n",
       "    }\n",
       "\n",
       "    .dataframe thead th {\n",
       "        text-align: right;\n",
       "    }\n",
       "</style>\n",
       "<table border=\"1\" class=\"dataframe\">\n",
       "  <thead>\n",
       "    <tr style=\"text-align: right;\">\n",
       "      <th></th>\n",
       "      <th>Transaction</th>\n",
       "      <th>Year</th>\n",
       "      <th>Month</th>\n",
       "      <th>Hour</th>\n",
       "    </tr>\n",
       "  </thead>\n",
       "  <tbody>\n",
       "    <tr>\n",
       "      <th>count</th>\n",
       "      <td>21293.000000</td>\n",
       "      <td>21293.000000</td>\n",
       "      <td>21293.000000</td>\n",
       "      <td>21293.0</td>\n",
       "    </tr>\n",
       "    <tr>\n",
       "      <th>mean</th>\n",
       "      <td>4951.990889</td>\n",
       "      <td>2016.597943</td>\n",
       "      <td>5.904898</td>\n",
       "      <td>0.0</td>\n",
       "    </tr>\n",
       "    <tr>\n",
       "      <th>std</th>\n",
       "      <td>2787.758400</td>\n",
       "      <td>0.490325</td>\n",
       "      <td>4.557956</td>\n",
       "      <td>0.0</td>\n",
       "    </tr>\n",
       "    <tr>\n",
       "      <th>min</th>\n",
       "      <td>1.000000</td>\n",
       "      <td>2016.000000</td>\n",
       "      <td>1.000000</td>\n",
       "      <td>0.0</td>\n",
       "    </tr>\n",
       "    <tr>\n",
       "      <th>25%</th>\n",
       "      <td>2548.000000</td>\n",
       "      <td>2016.000000</td>\n",
       "      <td>2.000000</td>\n",
       "      <td>0.0</td>\n",
       "    </tr>\n",
       "    <tr>\n",
       "      <th>50%</th>\n",
       "      <td>5067.000000</td>\n",
       "      <td>2017.000000</td>\n",
       "      <td>3.000000</td>\n",
       "      <td>0.0</td>\n",
       "    </tr>\n",
       "    <tr>\n",
       "      <th>75%</th>\n",
       "      <td>7329.000000</td>\n",
       "      <td>2017.000000</td>\n",
       "      <td>11.000000</td>\n",
       "      <td>0.0</td>\n",
       "    </tr>\n",
       "    <tr>\n",
       "      <th>max</th>\n",
       "      <td>9684.000000</td>\n",
       "      <td>2017.000000</td>\n",
       "      <td>12.000000</td>\n",
       "      <td>0.0</td>\n",
       "    </tr>\n",
       "  </tbody>\n",
       "</table>\n",
       "</div>"
      ],
      "text/plain": [
       "        Transaction          Year         Month     Hour\n",
       "count  21293.000000  21293.000000  21293.000000  21293.0\n",
       "mean    4951.990889   2016.597943      5.904898      0.0\n",
       "std     2787.758400      0.490325      4.557956      0.0\n",
       "min        1.000000   2016.000000      1.000000      0.0\n",
       "25%     2548.000000   2016.000000      2.000000      0.0\n",
       "50%     5067.000000   2017.000000      3.000000      0.0\n",
       "75%     7329.000000   2017.000000     11.000000      0.0\n",
       "max     9684.000000   2017.000000     12.000000      0.0"
      ]
     },
     "execution_count": 15,
     "metadata": {},
     "output_type": "execute_result"
    }
   ],
   "source": [
    "df.describe()"
   ]
  },
  {
   "cell_type": "code",
   "execution_count": 16,
   "metadata": {
    "ExecuteTime": {
     "end_time": "2020-11-04T13:36:50.054180Z",
     "start_time": "2020-11-04T13:36:50.037496Z"
    }
   },
   "outputs": [
    {
     "data": {
      "text/plain": [
       "array(['Bread', 'Scandinavian', 'Hot chocolate', 'Jam', 'Cookies',\n",
       "       'Muffin', 'Coffee', 'Pastry', 'Medialuna', 'Tea', 'NONE',\n",
       "       'Tartine', 'Basket', 'Mineral water', 'Farm House', 'Fudge',\n",
       "       'Juice', \"Ella's Kitchen Pouches\", 'Victorian Sponge', 'Frittata',\n",
       "       'Hearty & Seasonal', 'Soup', 'Pick and Mix Bowls', 'Smoothies',\n",
       "       'Cake', 'Mighty Protein', 'Chicken sand', 'Coke',\n",
       "       'My-5 Fruit Shoot', 'Focaccia', 'Sandwich', 'Alfajores', 'Eggs',\n",
       "       'Brownie', 'Dulce de Leche', 'Honey', 'The BART', 'Granola',\n",
       "       'Fairy Doors', 'Empanadas', 'Keeping It Local', 'Art Tray',\n",
       "       'Bowl Nic Pitt', 'Bread Pudding', 'Adjustment', 'Truffles',\n",
       "       'Chimichurri Oil', 'Bacon', 'Spread', 'Kids biscuit', 'Siblings',\n",
       "       'Caramel bites', 'Jammie Dodgers', 'Tiffin', 'Olum & polenta',\n",
       "       'Polenta', 'The Nomad', 'Hack the stack', 'Bakewell',\n",
       "       'Lemon and coconut', 'Toast', 'Scone', 'Crepes', 'Vegan mincepie',\n",
       "       'Bare Popcorn', 'Muesli', 'Crisps', 'Pintxos', 'Gingerbread syrup',\n",
       "       'Panatone', 'Brioche and salami', 'Afternoon with the baker',\n",
       "       'Salad', 'Chicken Stew', 'Spanish Brunch',\n",
       "       'Raspberry shortbread sandwich', 'Extra Salami or Feta',\n",
       "       'Duck egg', 'Baguette', \"Valentine's card\", 'Tshirt',\n",
       "       'Vegan Feast', 'Postcard', 'Nomad bag', 'Chocolates',\n",
       "       'Coffee granules ', 'Drinking chocolate spoons ',\n",
       "       'Christmas common', 'Argentina Night', 'Half slice Monster ',\n",
       "       'Gift voucher', 'Cherry me Dried fruit', 'Mortimer', 'Raw bars',\n",
       "       'Tacos/Fajita'], dtype=object)"
      ]
     },
     "execution_count": 16,
     "metadata": {},
     "output_type": "execute_result"
    }
   ],
   "source": [
    "df['Item'].unique()"
   ]
  },
  {
   "cell_type": "code",
   "execution_count": 17,
   "metadata": {
    "ExecuteTime": {
     "end_time": "2020-11-04T13:36:50.080569Z",
     "start_time": "2020-11-04T13:36:50.057273Z"
    }
   },
   "outputs": [
    {
     "data": {
      "text/plain": [
       "Coffee           5471\n",
       "Bread            3325\n",
       "Tea              1435\n",
       "Cake             1025\n",
       "Pastry            856\n",
       "NONE              786\n",
       "Sandwich          771\n",
       "Medialuna         616\n",
       "Hot chocolate     590\n",
       "Cookies           540\n",
       "Name: Item, dtype: int64"
      ]
     },
     "execution_count": 17,
     "metadata": {},
     "output_type": "execute_result"
    }
   ],
   "source": [
    "df['Item'].value_counts().head(10)"
   ]
  },
  {
   "cell_type": "code",
   "execution_count": 18,
   "metadata": {
    "ExecuteTime": {
     "end_time": "2020-11-04T13:36:50.114988Z",
     "start_time": "2020-11-04T13:36:50.085024Z"
    }
   },
   "outputs": [
    {
     "data": {
      "text/html": [
       "<div>\n",
       "<style scoped>\n",
       "    .dataframe tbody tr th:only-of-type {\n",
       "        vertical-align: middle;\n",
       "    }\n",
       "\n",
       "    .dataframe tbody tr th {\n",
       "        vertical-align: top;\n",
       "    }\n",
       "\n",
       "    .dataframe thead th {\n",
       "        text-align: right;\n",
       "    }\n",
       "</style>\n",
       "<table border=\"1\" class=\"dataframe\">\n",
       "  <thead>\n",
       "    <tr style=\"text-align: right;\">\n",
       "      <th></th>\n",
       "      <th>Date</th>\n",
       "      <th>Time</th>\n",
       "      <th>Transaction</th>\n",
       "      <th>Item</th>\n",
       "      <th>Year</th>\n",
       "      <th>Month</th>\n",
       "      <th>Hour</th>\n",
       "      <th>Month_year</th>\n",
       "    </tr>\n",
       "  </thead>\n",
       "  <tbody>\n",
       "    <tr>\n",
       "      <th>7</th>\n",
       "      <td>2016-10-30</td>\n",
       "      <td>10:13:03</td>\n",
       "      <td>5</td>\n",
       "      <td>Coffee</td>\n",
       "      <td>2016</td>\n",
       "      <td>10</td>\n",
       "      <td>0</td>\n",
       "      <td>2016-10</td>\n",
       "    </tr>\n",
       "    <tr>\n",
       "      <th>15</th>\n",
       "      <td>2016-10-30</td>\n",
       "      <td>10:19:12</td>\n",
       "      <td>7</td>\n",
       "      <td>Coffee</td>\n",
       "      <td>2016</td>\n",
       "      <td>10</td>\n",
       "      <td>0</td>\n",
       "      <td>2016-10</td>\n",
       "    </tr>\n",
       "    <tr>\n",
       "      <th>28</th>\n",
       "      <td>2016-10-30</td>\n",
       "      <td>10:30:14</td>\n",
       "      <td>12</td>\n",
       "      <td>Coffee</td>\n",
       "      <td>2016</td>\n",
       "      <td>10</td>\n",
       "      <td>0</td>\n",
       "      <td>2016-10</td>\n",
       "    </tr>\n",
       "    <tr>\n",
       "      <th>34</th>\n",
       "      <td>2016-10-30</td>\n",
       "      <td>10:31:24</td>\n",
       "      <td>13</td>\n",
       "      <td>Coffee</td>\n",
       "      <td>2016</td>\n",
       "      <td>10</td>\n",
       "      <td>0</td>\n",
       "      <td>2016-10</td>\n",
       "    </tr>\n",
       "    <tr>\n",
       "      <th>44</th>\n",
       "      <td>2016-10-30</td>\n",
       "      <td>10:37:08</td>\n",
       "      <td>16</td>\n",
       "      <td>Coffee</td>\n",
       "      <td>2016</td>\n",
       "      <td>10</td>\n",
       "      <td>0</td>\n",
       "      <td>2016-10</td>\n",
       "    </tr>\n",
       "  </tbody>\n",
       "</table>\n",
       "</div>"
      ],
      "text/plain": [
       "         Date      Time  Transaction    Item  Year  Month  Hour Month_year\n",
       "7  2016-10-30  10:13:03            5  Coffee  2016     10     0    2016-10\n",
       "15 2016-10-30  10:19:12            7  Coffee  2016     10     0    2016-10\n",
       "28 2016-10-30  10:30:14           12  Coffee  2016     10     0    2016-10\n",
       "34 2016-10-30  10:31:24           13  Coffee  2016     10     0    2016-10\n",
       "44 2016-10-30  10:37:08           16  Coffee  2016     10     0    2016-10"
      ]
     },
     "execution_count": 18,
     "metadata": {},
     "output_type": "execute_result"
    }
   ],
   "source": [
    "df[df['Item']=='Coffee'].head()"
   ]
  },
  {
   "cell_type": "code",
   "execution_count": 19,
   "metadata": {
    "ExecuteTime": {
     "end_time": "2020-11-04T13:36:50.142060Z",
     "start_time": "2020-11-04T13:36:50.119780Z"
    }
   },
   "outputs": [
    {
     "data": {
      "text/plain": [
       "Coffee           5471\n",
       "Bread            3325\n",
       "Tea              1435\n",
       "Cake             1025\n",
       "Pastry            856\n",
       "NONE              786\n",
       "Sandwich          771\n",
       "Medialuna         616\n",
       "Hot chocolate     590\n",
       "Cookies           540\n",
       "Brownie           379\n",
       "Farm House        374\n",
       "Muffin            370\n",
       "Juice             369\n",
       "Alfajores         369\n",
       "Soup              342\n",
       "Scone             327\n",
       "Toast             318\n",
       "Scandinavian      277\n",
       "Truffles          193\n",
       "Name: Item, dtype: int64"
      ]
     },
     "execution_count": 19,
     "metadata": {},
     "output_type": "execute_result"
    }
   ],
   "source": [
    "desc = df['Item'].value_counts().head(20)\n",
    "desc"
   ]
  },
  {
   "cell_type": "code",
   "execution_count": 20,
   "metadata": {
    "ExecuteTime": {
     "end_time": "2020-11-04T13:36:50.159423Z",
     "start_time": "2020-11-04T13:36:50.149274Z"
    }
   },
   "outputs": [
    {
     "data": {
      "text/plain": [
       "9531"
      ]
     },
     "execution_count": 20,
     "metadata": {},
     "output_type": "execute_result"
    }
   ],
   "source": [
    "df['Transaction'].nunique()"
   ]
  },
  {
   "cell_type": "code",
   "execution_count": 21,
   "metadata": {
    "ExecuteTime": {
     "end_time": "2020-11-04T13:36:50.186760Z",
     "start_time": "2020-11-04T13:36:50.162670Z"
    }
   },
   "outputs": [
    {
     "name": "stderr",
     "output_type": "stream",
     "text": [
      "/Users/gowthamshashank/opt/anaconda3/lib/python3.8/site-packages/pandas/core/ops/array_ops.py:253: FutureWarning: elementwise comparison failed; returning scalar instead, but in the future will perform elementwise comparison\n",
      "  res_values = method(rvalues)\n"
     ]
    },
    {
     "data": {
      "text/html": [
       "<div>\n",
       "<style scoped>\n",
       "    .dataframe tbody tr th:only-of-type {\n",
       "        vertical-align: middle;\n",
       "    }\n",
       "\n",
       "    .dataframe tbody tr th {\n",
       "        vertical-align: top;\n",
       "    }\n",
       "\n",
       "    .dataframe thead th {\n",
       "        text-align: right;\n",
       "    }\n",
       "</style>\n",
       "<table border=\"1\" class=\"dataframe\">\n",
       "  <thead>\n",
       "    <tr style=\"text-align: right;\">\n",
       "      <th></th>\n",
       "      <th>Date</th>\n",
       "      <th>Time</th>\n",
       "      <th>Transaction</th>\n",
       "      <th>Item</th>\n",
       "      <th>Year</th>\n",
       "      <th>Month</th>\n",
       "      <th>Hour</th>\n",
       "      <th>Month_year</th>\n",
       "    </tr>\n",
       "  </thead>\n",
       "  <tbody>\n",
       "  </tbody>\n",
       "</table>\n",
       "</div>"
      ],
      "text/plain": [
       "Empty DataFrame\n",
       "Columns: [Date, Time, Transaction, Item, Year, Month, Hour, Month_year]\n",
       "Index: []"
      ]
     },
     "execution_count": 21,
     "metadata": {},
     "output_type": "execute_result"
    }
   ],
   "source": [
    "df[df['Transaction'] == '00000'].head()"
   ]
  },
  {
   "cell_type": "code",
   "execution_count": 22,
   "metadata": {
    "ExecuteTime": {
     "end_time": "2020-11-04T13:36:50.226451Z",
     "start_time": "2020-11-04T13:36:50.190364Z"
    }
   },
   "outputs": [
    {
     "data": {
      "text/html": [
       "<div>\n",
       "<style scoped>\n",
       "    .dataframe tbody tr th:only-of-type {\n",
       "        vertical-align: middle;\n",
       "    }\n",
       "\n",
       "    .dataframe tbody tr th {\n",
       "        vertical-align: top;\n",
       "    }\n",
       "\n",
       "    .dataframe thead th {\n",
       "        text-align: right;\n",
       "    }\n",
       "</style>\n",
       "<table border=\"1\" class=\"dataframe\">\n",
       "  <thead>\n",
       "    <tr style=\"text-align: right;\">\n",
       "      <th></th>\n",
       "      <th>Date</th>\n",
       "      <th>Time</th>\n",
       "      <th>Transaction</th>\n",
       "      <th>Item</th>\n",
       "      <th>Year</th>\n",
       "      <th>Month</th>\n",
       "      <th>Hour</th>\n",
       "      <th>Month_year</th>\n",
       "    </tr>\n",
       "  </thead>\n",
       "  <tbody>\n",
       "    <tr>\n",
       "      <th>7</th>\n",
       "      <td>2016-10-30</td>\n",
       "      <td>10:13:03</td>\n",
       "      <td>5</td>\n",
       "      <td>Coffee</td>\n",
       "      <td>2016</td>\n",
       "      <td>10</td>\n",
       "      <td>0</td>\n",
       "      <td>2016-10</td>\n",
       "    </tr>\n",
       "    <tr>\n",
       "      <th>15</th>\n",
       "      <td>2016-10-30</td>\n",
       "      <td>10:19:12</td>\n",
       "      <td>7</td>\n",
       "      <td>Coffee</td>\n",
       "      <td>2016</td>\n",
       "      <td>10</td>\n",
       "      <td>0</td>\n",
       "      <td>2016-10</td>\n",
       "    </tr>\n",
       "    <tr>\n",
       "      <th>28</th>\n",
       "      <td>2016-10-30</td>\n",
       "      <td>10:30:14</td>\n",
       "      <td>12</td>\n",
       "      <td>Coffee</td>\n",
       "      <td>2016</td>\n",
       "      <td>10</td>\n",
       "      <td>0</td>\n",
       "      <td>2016-10</td>\n",
       "    </tr>\n",
       "    <tr>\n",
       "      <th>34</th>\n",
       "      <td>2016-10-30</td>\n",
       "      <td>10:31:24</td>\n",
       "      <td>13</td>\n",
       "      <td>Coffee</td>\n",
       "      <td>2016</td>\n",
       "      <td>10</td>\n",
       "      <td>0</td>\n",
       "      <td>2016-10</td>\n",
       "    </tr>\n",
       "    <tr>\n",
       "      <th>44</th>\n",
       "      <td>2016-10-30</td>\n",
       "      <td>10:37:08</td>\n",
       "      <td>16</td>\n",
       "      <td>Coffee</td>\n",
       "      <td>2016</td>\n",
       "      <td>10</td>\n",
       "      <td>0</td>\n",
       "      <td>2016-10</td>\n",
       "    </tr>\n",
       "  </tbody>\n",
       "</table>\n",
       "</div>"
      ],
      "text/plain": [
       "         Date      Time  Transaction    Item  Year  Month  Hour Month_year\n",
       "7  2016-10-30  10:13:03            5  Coffee  2016     10     0    2016-10\n",
       "15 2016-10-30  10:19:12            7  Coffee  2016     10     0    2016-10\n",
       "28 2016-10-30  10:30:14           12  Coffee  2016     10     0    2016-10\n",
       "34 2016-10-30  10:31:24           13  Coffee  2016     10     0    2016-10\n",
       "44 2016-10-30  10:37:08           16  Coffee  2016     10     0    2016-10"
      ]
     },
     "execution_count": 22,
     "metadata": {},
     "output_type": "execute_result"
    }
   ],
   "source": [
    "data = df[df['Item'] == 'Coffee']\n",
    "data.head()"
   ]
  },
  {
   "cell_type": "code",
   "execution_count": 23,
   "metadata": {
    "ExecuteTime": {
     "end_time": "2020-11-04T13:36:50.255635Z",
     "start_time": "2020-11-04T13:36:50.235217Z"
    }
   },
   "outputs": [
    {
     "data": {
      "text/html": [
       "<div>\n",
       "<style scoped>\n",
       "    .dataframe tbody tr th:only-of-type {\n",
       "        vertical-align: middle;\n",
       "    }\n",
       "\n",
       "    .dataframe tbody tr th {\n",
       "        vertical-align: top;\n",
       "    }\n",
       "\n",
       "    .dataframe thead th {\n",
       "        text-align: right;\n",
       "    }\n",
       "</style>\n",
       "<table border=\"1\" class=\"dataframe\">\n",
       "  <thead>\n",
       "    <tr style=\"text-align: right;\">\n",
       "      <th>Item</th>\n",
       "      <th>Coffee</th>\n",
       "    </tr>\n",
       "    <tr>\n",
       "      <th>Date</th>\n",
       "      <th></th>\n",
       "    </tr>\n",
       "  </thead>\n",
       "  <tbody>\n",
       "    <tr>\n",
       "      <th>2016-10-30</th>\n",
       "      <td>1541</td>\n",
       "    </tr>\n",
       "    <tr>\n",
       "      <th>2016-10-31</th>\n",
       "      <td>7496</td>\n",
       "    </tr>\n",
       "    <tr>\n",
       "      <th>2016-11-01</th>\n",
       "      <td>8167</td>\n",
       "    </tr>\n",
       "    <tr>\n",
       "      <th>2016-11-02</th>\n",
       "      <td>12156</td>\n",
       "    </tr>\n",
       "    <tr>\n",
       "      <th>2016-11-03</th>\n",
       "      <td>15502</td>\n",
       "    </tr>\n",
       "    <tr>\n",
       "      <th>...</th>\n",
       "      <td>...</td>\n",
       "    </tr>\n",
       "    <tr>\n",
       "      <th>2017-04-05</th>\n",
       "      <td>282472</td>\n",
       "    </tr>\n",
       "    <tr>\n",
       "      <th>2017-04-06</th>\n",
       "      <td>255865</td>\n",
       "    </tr>\n",
       "    <tr>\n",
       "      <th>2017-04-07</th>\n",
       "      <td>276214</td>\n",
       "    </tr>\n",
       "    <tr>\n",
       "      <th>2017-04-08</th>\n",
       "      <td>393480</td>\n",
       "    </tr>\n",
       "    <tr>\n",
       "      <th>2017-04-09</th>\n",
       "      <td>164295</td>\n",
       "    </tr>\n",
       "  </tbody>\n",
       "</table>\n",
       "<p>158 rows × 1 columns</p>\n",
       "</div>"
      ],
      "text/plain": [
       "Item        Coffee\n",
       "Date              \n",
       "2016-10-30    1541\n",
       "2016-10-31    7496\n",
       "2016-11-01    8167\n",
       "2016-11-02   12156\n",
       "2016-11-03   15502\n",
       "...            ...\n",
       "2017-04-05  282472\n",
       "2017-04-06  255865\n",
       "2017-04-07  276214\n",
       "2017-04-08  393480\n",
       "2017-04-09  164295\n",
       "\n",
       "[158 rows x 1 columns]"
      ]
     },
     "execution_count": 23,
     "metadata": {},
     "output_type": "execute_result"
    }
   ],
   "source": [
    "basket = data.groupby(['Date','Item'])['Transaction'].sum().unstack().fillna(0)\n",
    "basket"
   ]
  },
  {
   "cell_type": "code",
   "execution_count": 24,
   "metadata": {
    "ExecuteTime": {
     "end_time": "2020-11-04T13:36:50.287584Z",
     "start_time": "2020-11-04T13:36:50.264651Z"
    }
   },
   "outputs": [
    {
     "data": {
      "text/html": [
       "<div>\n",
       "<style scoped>\n",
       "    .dataframe tbody tr th:only-of-type {\n",
       "        vertical-align: middle;\n",
       "    }\n",
       "\n",
       "    .dataframe tbody tr th {\n",
       "        vertical-align: top;\n",
       "    }\n",
       "\n",
       "    .dataframe thead th {\n",
       "        text-align: right;\n",
       "    }\n",
       "</style>\n",
       "<table border=\"1\" class=\"dataframe\">\n",
       "  <thead>\n",
       "    <tr style=\"text-align: right;\">\n",
       "      <th>Item</th>\n",
       "      <th>Coffee</th>\n",
       "    </tr>\n",
       "    <tr>\n",
       "      <th>Date</th>\n",
       "      <th></th>\n",
       "    </tr>\n",
       "  </thead>\n",
       "  <tbody>\n",
       "    <tr>\n",
       "      <th>2016-10-30</th>\n",
       "      <td>1</td>\n",
       "    </tr>\n",
       "    <tr>\n",
       "      <th>2016-10-31</th>\n",
       "      <td>1</td>\n",
       "    </tr>\n",
       "    <tr>\n",
       "      <th>2016-11-01</th>\n",
       "      <td>1</td>\n",
       "    </tr>\n",
       "    <tr>\n",
       "      <th>2016-11-02</th>\n",
       "      <td>1</td>\n",
       "    </tr>\n",
       "    <tr>\n",
       "      <th>2016-11-03</th>\n",
       "      <td>1</td>\n",
       "    </tr>\n",
       "    <tr>\n",
       "      <th>...</th>\n",
       "      <td>...</td>\n",
       "    </tr>\n",
       "    <tr>\n",
       "      <th>2017-04-05</th>\n",
       "      <td>1</td>\n",
       "    </tr>\n",
       "    <tr>\n",
       "      <th>2017-04-06</th>\n",
       "      <td>1</td>\n",
       "    </tr>\n",
       "    <tr>\n",
       "      <th>2017-04-07</th>\n",
       "      <td>1</td>\n",
       "    </tr>\n",
       "    <tr>\n",
       "      <th>2017-04-08</th>\n",
       "      <td>1</td>\n",
       "    </tr>\n",
       "    <tr>\n",
       "      <th>2017-04-09</th>\n",
       "      <td>1</td>\n",
       "    </tr>\n",
       "  </tbody>\n",
       "</table>\n",
       "<p>158 rows × 1 columns</p>\n",
       "</div>"
      ],
      "text/plain": [
       "Item        Coffee\n",
       "Date              \n",
       "2016-10-30       1\n",
       "2016-10-31       1\n",
       "2016-11-01       1\n",
       "2016-11-02       1\n",
       "2016-11-03       1\n",
       "...            ...\n",
       "2017-04-05       1\n",
       "2017-04-06       1\n",
       "2017-04-07       1\n",
       "2017-04-08       1\n",
       "2017-04-09       1\n",
       "\n",
       "[158 rows x 1 columns]"
      ]
     },
     "execution_count": 24,
     "metadata": {},
     "output_type": "execute_result"
    }
   ],
   "source": [
    "basket_model = basket.applymap(lambda x: 1 if x>0 else 0)\n",
    "basket_model"
   ]
  },
  {
   "cell_type": "code",
   "execution_count": 25,
   "metadata": {
    "ExecuteTime": {
     "end_time": "2020-11-04T13:36:50.305496Z",
     "start_time": "2020-11-04T13:36:50.294387Z"
    }
   },
   "outputs": [],
   "source": [
    "popular_sets = apriori(basket_model, min_support=0.08, use_colnames=True)"
   ]
  },
  {
   "cell_type": "code",
   "execution_count": 26,
   "metadata": {
    "ExecuteTime": {
     "end_time": "2020-11-04T13:36:50.324648Z",
     "start_time": "2020-11-04T13:36:50.309371Z"
    }
   },
   "outputs": [
    {
     "data": {
      "text/html": [
       "<div>\n",
       "<style scoped>\n",
       "    .dataframe tbody tr th:only-of-type {\n",
       "        vertical-align: middle;\n",
       "    }\n",
       "\n",
       "    .dataframe tbody tr th {\n",
       "        vertical-align: top;\n",
       "    }\n",
       "\n",
       "    .dataframe thead th {\n",
       "        text-align: right;\n",
       "    }\n",
       "</style>\n",
       "<table border=\"1\" class=\"dataframe\">\n",
       "  <thead>\n",
       "    <tr style=\"text-align: right;\">\n",
       "      <th></th>\n",
       "      <th>support</th>\n",
       "      <th>itemsets</th>\n",
       "    </tr>\n",
       "  </thead>\n",
       "  <tbody>\n",
       "    <tr>\n",
       "      <th>0</th>\n",
       "      <td>1.0</td>\n",
       "      <td>(Coffee)</td>\n",
       "    </tr>\n",
       "  </tbody>\n",
       "</table>\n",
       "</div>"
      ],
      "text/plain": [
       "   support  itemsets\n",
       "0      1.0  (Coffee)"
      ]
     },
     "execution_count": 26,
     "metadata": {},
     "output_type": "execute_result"
    }
   ],
   "source": [
    "popular_sets"
   ]
  },
  {
   "cell_type": "code",
   "execution_count": 27,
   "metadata": {
    "ExecuteTime": {
     "end_time": "2020-11-04T13:36:50.342063Z",
     "start_time": "2020-11-04T13:36:50.329430Z"
    }
   },
   "outputs": [],
   "source": [
    "rules = association_rules(popular_sets,metric='lift',min_threshold=1)"
   ]
  },
  {
   "cell_type": "code",
   "execution_count": 28,
   "metadata": {
    "ExecuteTime": {
     "end_time": "2020-11-04T13:36:50.368082Z",
     "start_time": "2020-11-04T13:36:50.351790Z"
    }
   },
   "outputs": [
    {
     "data": {
      "text/html": [
       "<div>\n",
       "<style scoped>\n",
       "    .dataframe tbody tr th:only-of-type {\n",
       "        vertical-align: middle;\n",
       "    }\n",
       "\n",
       "    .dataframe tbody tr th {\n",
       "        vertical-align: top;\n",
       "    }\n",
       "\n",
       "    .dataframe thead th {\n",
       "        text-align: right;\n",
       "    }\n",
       "</style>\n",
       "<table border=\"1\" class=\"dataframe\">\n",
       "  <thead>\n",
       "    <tr style=\"text-align: right;\">\n",
       "      <th></th>\n",
       "      <th>antecedents</th>\n",
       "      <th>consequents</th>\n",
       "      <th>antecedent support</th>\n",
       "      <th>consequent support</th>\n",
       "      <th>support</th>\n",
       "      <th>confidence</th>\n",
       "      <th>lift</th>\n",
       "      <th>leverage</th>\n",
       "      <th>conviction</th>\n",
       "    </tr>\n",
       "  </thead>\n",
       "  <tbody>\n",
       "  </tbody>\n",
       "</table>\n",
       "</div>"
      ],
      "text/plain": [
       "Empty DataFrame\n",
       "Columns: [antecedents, consequents, antecedent support, consequent support, support, confidence, lift, leverage, conviction]\n",
       "Index: []"
      ]
     },
     "execution_count": 28,
     "metadata": {},
     "output_type": "execute_result"
    }
   ],
   "source": [
    "rules.head()"
   ]
  },
  {
   "cell_type": "code",
   "execution_count": 29,
   "metadata": {
    "ExecuteTime": {
     "end_time": "2020-11-04T13:36:50.390942Z",
     "start_time": "2020-11-04T13:36:50.373989Z"
    }
   },
   "outputs": [
    {
     "data": {
      "text/html": [
       "<div>\n",
       "<style scoped>\n",
       "    .dataframe tbody tr th:only-of-type {\n",
       "        vertical-align: middle;\n",
       "    }\n",
       "\n",
       "    .dataframe tbody tr th {\n",
       "        vertical-align: top;\n",
       "    }\n",
       "\n",
       "    .dataframe thead th {\n",
       "        text-align: right;\n",
       "    }\n",
       "</style>\n",
       "<table border=\"1\" class=\"dataframe\">\n",
       "  <thead>\n",
       "    <tr style=\"text-align: right;\">\n",
       "      <th></th>\n",
       "      <th>antecedents</th>\n",
       "      <th>consequents</th>\n",
       "      <th>antecedent support</th>\n",
       "      <th>consequent support</th>\n",
       "      <th>support</th>\n",
       "      <th>confidence</th>\n",
       "      <th>lift</th>\n",
       "      <th>leverage</th>\n",
       "      <th>conviction</th>\n",
       "    </tr>\n",
       "  </thead>\n",
       "  <tbody>\n",
       "  </tbody>\n",
       "</table>\n",
       "</div>"
      ],
      "text/plain": [
       "Empty DataFrame\n",
       "Columns: [antecedents, consequents, antecedent support, consequent support, support, confidence, lift, leverage, conviction]\n",
       "Index: []"
      ]
     },
     "execution_count": 29,
     "metadata": {},
     "output_type": "execute_result"
    }
   ],
   "source": [
    "rules[ (rules['lift'] >= 5) &\n",
    "       (rules['confidence'] >= 1) ]\n"
   ]
  }
 ],
 "metadata": {
  "kernelspec": {
   "display_name": "Python 3",
   "language": "python",
   "name": "python3"
  },
  "language_info": {
   "codemirror_mode": {
    "name": "ipython",
    "version": 3
   },
   "file_extension": ".py",
   "mimetype": "text/x-python",
   "name": "python",
   "nbconvert_exporter": "python",
   "pygments_lexer": "ipython3",
   "version": "3.8.3"
  }
 },
 "nbformat": 4,
 "nbformat_minor": 4
}
